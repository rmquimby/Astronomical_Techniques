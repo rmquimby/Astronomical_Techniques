{
 "cells": [
  {
   "cell_type": "code",
   "execution_count": null,
   "metadata": {
    "slideshow": {
     "slide_type": "skip"
    }
   },
   "outputs": [],
   "source": [
    "# python modules that we will use\n",
    "import numpy as np\n",
    "from astropy.io import fits\n",
    "from astropy.stats import sigma_clip\n",
    "from scipy.interpolate import interp1d\n",
    "from scipy.interpolate import LSQBivariateSpline, LSQUnivariateSpline\n",
    "from scipy.optimize import fmin\n",
    "from scipy.optimize import least_squares\n",
    "import pickle\n",
    "\n",
    "%matplotlib inline\n",
    "import matplotlib.pylab as plt"
   ]
  },
  {
   "cell_type": "code",
   "execution_count": null,
   "metadata": {
    "slideshow": {
     "slide_type": "skip"
    }
   },
   "outputs": [],
   "source": [
    "# change plotting defaults\n",
    "plt.rc('axes', labelsize=14)\n",
    "plt.rc('axes', labelweight='bold')\n",
    "plt.rc('axes', titlesize=16)\n",
    "plt.rc('axes', titleweight='bold')\n",
    "plt.rc('font', family='sans-serif')\n",
    "plt.rcParams['figure.figsize'] = (15, 7)"
   ]
  },
  {
   "cell_type": "markdown",
   "metadata": {
    "slideshow": {
     "slide_type": "slide"
    }
   },
   "source": [
    "# Introduction to Optical Spectroscopy"
   ]
  },
  {
   "cell_type": "markdown",
   "metadata": {},
   "source": [
    "### Robert Quimby (SDSU)"
   ]
  },
  {
   "cell_type": "markdown",
   "metadata": {
    "slideshow": {
     "slide_type": "slide"
    }
   },
   "source": [
    "## In this lecture I will discuss:"
   ]
  },
  {
   "cell_type": "markdown",
   "metadata": {},
   "source": [
    "* image vs. spectral information\n",
    "* (grating) spectrographs\n",
    "* the spectral reduction process\n",
    "* data needed for calibration"
   ]
  },
  {
   "cell_type": "markdown",
   "metadata": {
    "slideshow": {
     "slide_type": "slide"
    }
   },
   "source": [
    "## What information do we get from images?"
   ]
  },
  {
   "cell_type": "markdown",
   "metadata": {},
   "source": [
    "* relative **position** of a target\n",
    "  * does the relative position of the target change with time?\n",
    "* **brightness** of the target compared to other objects\n",
    "  * does the relative brightness of the target change with time?\n",
    "* angular size (or limit)"
   ]
  },
  {
   "cell_type": "markdown",
   "metadata": {
    "slideshow": {
     "slide_type": "fragment"
    }
   },
   "source": [
    "* **color**\n",
    "  * the brightness in one bandpass compared to another "
   ]
  },
  {
   "cell_type": "markdown",
   "metadata": {
    "slideshow": {
     "slide_type": "slide"
    }
   },
   "source": [
    "## Imaging data"
   ]
  },
  {
   "cell_type": "code",
   "execution_count": null,
   "metadata": {
    "hide_input": false,
    "scrolled": false,
    "slideshow": {
     "slide_type": "skip"
    }
   },
   "outputs": [],
   "source": [
    "# http://skyserver.sdss.org/dr2/en/tools/explore/obj.asp?id=587722984438038552\n",
    "image_url = 'http://das.sdss.org/imaging/752/40/corr/6/fpC-000752-g6-0451.fit.gz'\n",
    "image = fits.getdata(image_url)\n",
    "\n",
    "spec_url = 'http://das.sdss.org/spectro/1d_23/0302/1d/spSpec-51688-0302-325.fit'\n",
    "head = fits.getheader(spec_url)\n",
    "spec = fits.getdata(spec_url)\n",
    "\n",
    "def show_image():\n",
    "    sample = sigma_clip(image)\n",
    "    vmin = sample.mean() - 1 * sample.std()\n",
    "    vmax = sample.mean() + 15 * sample.std()\n",
    "    plt.imshow(image[100:300, 1350:1700], vmin=vmin, vmax=vmax, origin='lower', cmap='gray');"
   ]
  },
  {
   "cell_type": "code",
   "execution_count": null,
   "metadata": {
    "hide_input": false,
    "scrolled": false
   },
   "outputs": [],
   "source": [
    "show_image()"
   ]
  },
  {
   "cell_type": "markdown",
   "metadata": {
    "slideshow": {
     "slide_type": "slide"
    }
   },
   "source": [
    "## Spectral data"
   ]
  },
  {
   "cell_type": "code",
   "execution_count": null,
   "metadata": {
    "slideshow": {
     "slide_type": "skip"
    }
   },
   "outputs": [],
   "source": [
    "urlbase = 'http://classic.sdss.org/dr7/instruments/imager/filters/{}.dat'\n",
    "def spec_v_phot(showbands=False):\n",
    "    wav = 10**(head['crval1'] + head['cd1_1'] * np.arange(spec[0, :].size))\n",
    "    scale = spec[0, :].max() * 2\n",
    "    if showbands:\n",
    "        for filt in ['g', 'r', 'i']:\n",
    "            band = np.genfromtxt(urlbase.format(filt), names=('wav', 'T'), usecols=(0, 3))\n",
    "            plt.plot(band['wav'], scale * band['T'], label=filt, color='k', ls='--')\n",
    "            plt.fill_between(band['wav'], scale * band['T'], alpha=0.25, color='0.7')\n",
    "    plt.plot(wav, spec[0, :], lw=2);\n",
    "    plt.xlabel('Wavlength (Angstrom)')\n",
    "    plt.ylabel('Flux Density'); plt.grid()"
   ]
  },
  {
   "cell_type": "code",
   "execution_count": null,
   "metadata": {
    "slideshow": {
     "slide_type": "-"
    }
   },
   "outputs": [],
   "source": [
    "spec_v_phot()"
   ]
  },
  {
   "cell_type": "markdown",
   "metadata": {
    "slideshow": {
     "slide_type": "slide"
    }
   },
   "source": [
    "## Spectra gives information about"
   ]
  },
  {
   "cell_type": "markdown",
   "metadata": {},
   "source": [
    "* temperature\n",
    "* composition\n",
    "* line-of-sight velocity"
   ]
  },
  {
   "cell_type": "markdown",
   "metadata": {
    "slideshow": {
     "slide_type": "slide"
    }
   },
   "source": [
    "## Higher spectral resolution gives more information about distant targets"
   ]
  },
  {
   "cell_type": "markdown",
   "metadata": {},
   "source": [
    "**Spectral resolution:** $$R = \\lambda / \\Delta \\lambda$$"
   ]
  },
  {
   "cell_type": "markdown",
   "metadata": {
    "slideshow": {
     "slide_type": "fragment"
    }
   },
   "source": [
    "a picture is worth a 1000 words "
   ]
  },
  {
   "cell_type": "markdown",
   "metadata": {
    "slideshow": {
     "slide_type": "fragment"
    }
   },
   "source": [
    "a spectrum is worth 100,000 words"
   ]
  },
  {
   "cell_type": "markdown",
   "metadata": {
    "slideshow": {
     "slide_type": "slide"
    }
   },
   "source": [
    "## But spectra come at a cost"
   ]
  },
  {
   "cell_type": "markdown",
   "metadata": {},
   "source": [
    "* dividing up photons into smaller and smaller wavelength (energy) bins means each bin gets fewer and fewer photons\n",
    "    * spectroscopy is aperture hungry"
   ]
  },
  {
   "cell_type": "markdown",
   "metadata": {
    "slideshow": {
     "slide_type": "slide"
    }
   },
   "source": [
    "## Dispersing light"
   ]
  },
  {
   "cell_type": "markdown",
   "metadata": {},
   "source": [
    "![](https://upload.wikimedia.org/wikipedia/commons/thumb/1/10/Comparison_refraction_diffraction_spectra.svg/200px-Comparison_refraction_diffraction_spectra.svg.png)"
   ]
  },
  {
   "cell_type": "markdown",
   "metadata": {
    "slideshow": {
     "slide_type": "subslide"
    }
   },
   "source": [
    "#### Recall interference fringes from a double slit\n",
    "<img src=\"http://hyperphysics.phy-astr.gsu.edu/hbase/phyopt/imgpho/difdoub.png\" width=\"400px\">"
   ]
  },
  {
   "cell_type": "markdown",
   "metadata": {
    "slideshow": {
     "slide_type": "slide"
    }
   },
   "source": [
    "## Positions of bright fringes are wavelength dependent"
   ]
  },
  {
   "cell_type": "code",
   "execution_count": null,
   "metadata": {
    "slideshow": {
     "slide_type": "-"
    }
   },
   "outputs": [],
   "source": [
    "n = 5000\n",
    "detector = np.arange(n) - n / 2\n",
    "def get_fringes(wav, spacing=10, distance=100000):\n",
    "    # for each spot on the detector screen, determine the path length difference\n",
    "    path1 = np.hypot(detector - spacing/2, distance)\n",
    "    path2 = np.hypot(detector + spacing/2, distance)\n",
    "    dpath = np.abs(path1 - path2)\n",
    "    return np.cos(dpath / wav * 2 * np.pi)**2"
   ]
  },
  {
   "cell_type": "code",
   "execution_count": null,
   "metadata": {
    "slideshow": {
     "slide_type": "subslide"
    }
   },
   "outputs": [],
   "source": [
    "plt.plot(detector, get_fringes(0.11) , c='r')\n",
    "plt.grid()"
   ]
  },
  {
   "cell_type": "markdown",
   "metadata": {
    "slideshow": {
     "slide_type": "slide"
    }
   },
   "source": [
    "## A look through a transmission grating"
   ]
  },
  {
   "cell_type": "markdown",
   "metadata": {},
   "source": [
    "![](https://upload.wikimedia.org/wikipedia/commons/a/aa/Light-bulb-grating.png)"
   ]
  },
  {
   "cell_type": "markdown",
   "metadata": {
    "slideshow": {
     "slide_type": "subslide"
    }
   },
   "source": [
    "#### interference also works in reflection\n",
    "<img src=\"https://upload.wikimedia.org/wikipedia/commons/0/0b/Diffraction_Grating_Equation.jpg\" style=\"height: 300px;\">"
   ]
  },
  {
   "cell_type": "markdown",
   "metadata": {
    "slideshow": {
     "slide_type": "slide"
    }
   },
   "source": [
    "## Spectroscopy of astrophysical targets"
   ]
  },
  {
   "cell_type": "code",
   "execution_count": null,
   "metadata": {
    "slideshow": {
     "slide_type": "skip"
    }
   },
   "outputs": [],
   "source": [
    "def plot_image(disperse=False, mask=False, detector=False):\n",
    "    xa, xb = 0, 6\n",
    "    maska, maskb = 1.9, 2.1\n",
    "\n",
    "    stars = [(3, 4.9), (2, 3), (4, 5), (5, 1)]\n",
    "    for star in stars:\n",
    "        x, y = star\n",
    "        if (not mask) or (maska < x < maskb):\n",
    "            plt.plot(*star, marker='*', ms=30, color='k')\n",
    "    \n",
    "    if mask:\n",
    "        plt.axvspan(xa, maska, color='0.4', alpha=0.95)\n",
    "        plt.axvspan(maskb, xb, color='0.4', alpha=0.95)\n",
    "\n",
    "    if disperse:\n",
    "        n = 100\n",
    "        xspec = np.linspace(0.5, 2.0, n)\n",
    "        for star in stars:\n",
    "            x, y = star\n",
    "            if (not mask) or (maska < x < maskb):\n",
    "                plt.scatter(x + xspec, y + np.zeros(n), marker='o', zorder=10\n",
    "                            , c=xspec, vmin=xspec.min(), vmax=xspec.max(), cmap='rainbow')\n",
    "                #plt.scatter(x - xspec, y + np.zeros(n), marker='o', zorder=10\n",
    "                #            , c=xspec, vmin=xspec.min(), vmax=xspec.max(), cmap='rainbow')   \n",
    "            \n",
    "    if detector:\n",
    "        x0, x1 = 3, 4\n",
    "        y0, y1 = 2.75, 3.5\n",
    "        plt.plot([x0, x1, x1, x0, x0], [y0, y0, y1, y1, y0], c='k')\n",
    "        \n",
    "    plt.ylim(0, 6)\n",
    "    plt.xlim(xa, xb)"
   ]
  },
  {
   "cell_type": "code",
   "execution_count": null,
   "metadata": {
    "slideshow": {
     "slide_type": "subslide"
    }
   },
   "outputs": [],
   "source": [
    "plot_image()"
   ]
  },
  {
   "cell_type": "markdown",
   "metadata": {
    "slideshow": {
     "slide_type": "slide"
    }
   },
   "source": [
    "## Schematic Layout of Keck/LRIS"
   ]
  },
  {
   "cell_type": "markdown",
   "metadata": {},
   "source": [
    "![](https://www2.keck.hawaii.edu/inst/lris/images/xlris_good.gif)"
   ]
  },
  {
   "cell_type": "markdown",
   "metadata": {
    "slideshow": {
     "slide_type": "slide"
    }
   },
   "source": [
    "## What the data look like (cartoon version)"
   ]
  },
  {
   "cell_type": "code",
   "execution_count": null,
   "metadata": {
    "hide_input": false,
    "slideshow": {
     "slide_type": "skip"
    }
   },
   "outputs": [],
   "source": [
    "# draw a spectrum\n",
    "\n",
    "def add_line(image, xs, cx, sigma, weights=1):\n",
    "    image += np.abs(np.exp( -(xs - cx)**2 / 2 / sigma**2) * weights)\n",
    "    \n",
    "def make_image():\n",
    "    # start with a blank image\n",
    "    nx, ny = 512, 128\n",
    "    image = np.zeros((ny, nx))\n",
    "    ys, xs = np.indices(image.shape)\n",
    "\n",
    "    # add some sky lines\n",
    "    for x in [15, 100, 250, 275, 310, 350, 400, 410, 430, 455]:        \n",
    "        add_line(image, xs, x, 4)\n",
    "    sky = image.copy()\n",
    "    \n",
    "    # add object trace\n",
    "    weights = 5-(np.abs(xs-200)/150)**2\n",
    "    weights /= weights.max()\n",
    "    weights *= 3\n",
    "    add_line(image, ys, 100, 6, weights=weights)\n",
    "    \n",
    "    return image, sky"
   ]
  },
  {
   "cell_type": "code",
   "execution_count": null,
   "metadata": {
    "hide_input": false,
    "slideshow": {
     "slide_type": "-"
    }
   },
   "outputs": [],
   "source": [
    "image, sky = make_image()\n",
    "plt.imshow(image, vmin=0, vmax=0.5 * image.max())\n",
    "plt.xlabel('Wavlength Coordinate')\n",
    "plt.ylabel('Spatial Coordinate');"
   ]
  },
  {
   "cell_type": "markdown",
   "metadata": {
    "slideshow": {
     "slide_type": "fragment"
    }
   },
   "source": [
    "#### Note in real data:\n",
    "* the lines of constant wavelength are silghtly tilted and curved with respect to the pixel grid"
   ]
  },
  {
   "cell_type": "markdown",
   "metadata": {
    "slideshow": {
     "slide_type": "slide"
    }
   },
   "source": [
    "## Extracting a spectrum"
   ]
  },
  {
   "cell_type": "markdown",
   "metadata": {
    "slideshow": {
     "slide_type": "fragment"
    }
   },
   "source": [
    "* spectroscopy is photometry but the band passes are smaller and you get many bands at once\n",
    "* same basic proceedure for reducing the data, but wavelengenth dependicies need to be handled\n",
    "* extraction is also analagous to photometry, but again wavelength dependicies matter"
   ]
  },
  {
   "cell_type": "code",
   "execution_count": null,
   "metadata": {
    "slideshow": {
     "slide_type": "subslide"
    }
   },
   "outputs": [],
   "source": [
    "spec = ????\n",
    "plt.plot(spec, lw=5)\n",
    "plt.xlabel('Wavelength Coordinate')\n",
    "plt.ylabel('Relative Flux Density');"
   ]
  },
  {
   "cell_type": "markdown",
   "metadata": {
    "slideshow": {
     "slide_type": "slide"
    }
   },
   "source": [
    "## Wavelength Calibration"
   ]
  },
  {
   "cell_type": "code",
   "execution_count": null,
   "metadata": {},
   "outputs": [],
   "source": [
    "plt.plot(????)\n",
    "plt.xlabel('Wavelength Coordinate')\n",
    "plt.ylabel('Relative Flux Density');"
   ]
  },
  {
   "cell_type": "markdown",
   "metadata": {
    "slideshow": {
     "slide_type": "slide"
    }
   },
   "source": [
    "## Flux calibration"
   ]
  },
  {
   "cell_type": "markdown",
   "metadata": {},
   "source": [
    "* observe a \"standard star\" -- an object with known flux densities\n",
    "* use the observed counts and known flux densities in each wavelength bin to get the response function (basically the wavelength dependent instrumental zeropoints) "
   ]
  },
  {
   "cell_type": "markdown",
   "metadata": {
    "slideshow": {
     "slide_type": "slide"
    }
   },
   "source": [
    "## Real data"
   ]
  },
  {
   "cell_type": "code",
   "execution_count": null,
   "metadata": {
    "slideshow": {
     "slide_type": "skip"
    }
   },
   "outputs": [],
   "source": [
    "def show_spec_2d(imtype):\n",
    "    # load the 2D science image data\n",
    "    image = fits.getdata('media/spec_{}.fits'.format(imtype))\n",
    "\n",
    "    # determine the image pixel distribution (used for displaying below)\n",
    "    sample = sigma_clip(image)\n",
    "    vmin = sample.mean() - 1 * sample.std()\n",
    "    vmax = sample.mean() + 3 * sample.std()\n",
    "\n",
    "    # show the image using matplotlib's `imshow` function\n",
    "    plt.figure(figsize=(15, 3))\n",
    "    plt.imshow(image, origin='lower', cmap='gray', aspect='auto', vmin=vmin, vmax=vmax)\n",
    "    plt.xlabel('Column Number')\n",
    "    plt.ylabel('Row Number');"
   ]
  },
  {
   "cell_type": "markdown",
   "metadata": {
    "slideshow": {
     "slide_type": "subslide"
    }
   },
   "source": [
    "## Calibration data: arc lamp spectra"
   ]
  },
  {
   "cell_type": "code",
   "execution_count": null,
   "metadata": {
    "scrolled": true
   },
   "outputs": [],
   "source": [
    "show_spec_2d('lamp')"
   ]
  },
  {
   "cell_type": "markdown",
   "metadata": {
    "slideshow": {
     "slide_type": "subslide"
    }
   },
   "source": [
    "## Calibration data: flat field spectrum"
   ]
  },
  {
   "cell_type": "code",
   "execution_count": null,
   "metadata": {},
   "outputs": [],
   "source": [
    "show_spec_2d('flat')"
   ]
  },
  {
   "cell_type": "markdown",
   "metadata": {
    "slideshow": {
     "slide_type": "subslide"
    }
   },
   "source": [
    "## Calibration data: standard star spectrum"
   ]
  },
  {
   "cell_type": "code",
   "execution_count": null,
   "metadata": {
    "scrolled": true
   },
   "outputs": [],
   "source": [
    "show_spec_2d('std')"
   ]
  },
  {
   "cell_type": "markdown",
   "metadata": {
    "slideshow": {
     "slide_type": "subslide"
    }
   },
   "source": [
    "## Science Spectrum"
   ]
  },
  {
   "cell_type": "code",
   "execution_count": null,
   "metadata": {},
   "outputs": [],
   "source": [
    "show_spec_2d('sci')"
   ]
  }
 ],
 "metadata": {
  "kernelspec": {
   "display_name": "Python 3",
   "language": "python",
   "name": "python3"
  },
  "language_info": {
   "codemirror_mode": {
    "name": "ipython",
    "version": 3
   },
   "file_extension": ".py",
   "mimetype": "text/x-python",
   "name": "python",
   "nbconvert_exporter": "python",
   "pygments_lexer": "ipython3",
   "version": "3.6.10"
  }
 },
 "nbformat": 4,
 "nbformat_minor": 2
}
