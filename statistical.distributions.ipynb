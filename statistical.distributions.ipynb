{
 "cells": [
  {
   "cell_type": "code",
   "execution_count": null,
   "metadata": {},
   "outputs": [],
   "source": [
    "%matplotlib inline\n",
    "import matplotlib.pyplot as plt\n",
    "import numpy as np"
   ]
  },
  {
   "cell_type": "code",
   "execution_count": null,
   "metadata": {},
   "outputs": [],
   "source": [
    "# reset defalult plotting values\n",
    "plt.rcParams['figure.figsize'] = (15, 5)\n",
    "plt.rc('font', family='sans-serif')\n",
    "plt.rc('axes', labelsize=14)\n",
    "plt.rc('axes', labelweight='bold')\n",
    "plt.rc('axes', titlesize=16)\n",
    "plt.rc('axes', titleweight='bold')\n",
    "plt.rc('axes', linewidth=2)\n",
    "plt.rc('xtick',labelsize=14)\n",
    "plt.rc('ytick',labelsize=14)"
   ]
  },
  {
   "cell_type": "markdown",
   "metadata": {
    "slideshow": {
     "slide_type": "subslide"
    }
   },
   "source": [
    "# Statistical Distributions\n",
    "## \n",
    "\n",
    "![](https://upload.wikimedia.org/wikipedia/commons/thumb/c/c4/2-Dice-Icon.svg/200px-2-Dice-Icon.svg.png)\n",
    "\n",
    "### Prof. Robert Quimby\n",
    "&copy; 2020 Robert Quimby"
   ]
  },
  {
   "cell_type": "markdown",
   "metadata": {
    "slideshow": {
     "slide_type": "slide"
    }
   },
   "source": [
    "## In this tutorial you will..."
   ]
  },
  {
   "cell_type": "markdown",
   "metadata": {},
   "source": [
    "- Consider how the randomness of nature can lead identical experiments to different outcomes\n",
    "- Calculate the odds for different outcomes of random trials\n",
    "- Compare the binomial, Poisson, and Gaussian distributions"
   ]
  },
  {
   "cell_type": "markdown",
   "metadata": {
    "slideshow": {
     "slide_type": "subslide"
    }
   },
   "source": [
    "For introductions to basic concepts of statistics used in astronomy see:\n",
    "- \"Data Reduction and Error Analysis for the Physical Sciences,\" (Bevington & Robinson 1992)\n",
    "- \"An Introduction to Error Analysis,\" (Taylor 1997)"
   ]
  },
  {
   "cell_type": "markdown",
   "metadata": {
    "slideshow": {
     "slide_type": "slide"
    }
   },
   "source": [
    "## How Many Grains of Sand Are There in a Teaspoon?"
   ]
  },
  {
   "cell_type": "markdown",
   "metadata": {},
   "source": [
    "![](media/sand.png)"
   ]
  },
  {
   "cell_type": "code",
   "execution_count": null,
   "metadata": {
    "slideshow": {
     "slide_type": "subslide"
    }
   },
   "outputs": [],
   "source": [
    "samples = np.genfromtxt('media/sand.dat')\n",
    "plt.plot(samples, 'ro')\n",
    "plt.xlabel('Sample Number')\n",
    "plt.ylabel('Grains of Sand');"
   ]
  },
  {
   "cell_type": "code",
   "execution_count": null,
   "metadata": {
    "slideshow": {
     "slide_type": "fragment"
    }
   },
   "outputs": [],
   "source": [
    "m = ????\n",
    "std = ????\n",
    "print(\"a teaspoon of sand contains {:.0f} +/- {:.0f} grains\".format(round(m, -1), round(std, -1)))"
   ]
  },
  {
   "cell_type": "markdown",
   "metadata": {
    "slideshow": {
     "slide_type": "slide"
    }
   },
   "source": [
    "## Measurement Uncertainty"
   ]
  },
  {
   "cell_type": "markdown",
   "metadata": {},
   "source": [
    " * Experiments do not produce exact results\n",
    " * If you repeat the same experiment over and over, you are bound to get different results\n",
    " * Therefore results must always be accompanied with an uncertainty measurement so we can determine if two different measurements are consistent, or if a measurement is consistent with a theoretical prediction"
   ]
  },
  {
   "cell_type": "markdown",
   "metadata": {
    "slideshow": {
     "slide_type": "slide"
    }
   },
   "source": [
    "## Lets play dice"
   ]
  },
  {
   "cell_type": "markdown",
   "metadata": {
    "slideshow": {
     "slide_type": "fragment"
    }
   },
   "source": [
    "![](https://upload.wikimedia.org/wikipedia/commons/7/77/Nuvola_apps_atlantik.png)\n",
    "\n",
    "If I have a normal 6-sided die, what is the probability that I will roll a three?"
   ]
  },
  {
   "cell_type": "markdown",
   "metadata": {
    "slideshow": {
     "slide_type": "subslide"
    }
   },
   "source": [
    "![](https://upload.wikimedia.org/wikipedia/commons/thumb/c/c4/2-Dice-Icon.svg/200px-2-Dice-Icon.svg.png)\n",
    "\n",
    "If I roll two regular, 6-sided dice, what is the probability that I will roll exactly **two** threes (one on each die)?"
   ]
  },
  {
   "cell_type": "markdown",
   "metadata": {
    "slideshow": {
     "slide_type": "fragment"
    }
   },
   "source": [
    "What is the probability that I will roll exactly **one** three?"
   ]
  },
  {
   "cell_type": "code",
   "execution_count": null,
   "metadata": {},
   "outputs": [],
   "source": [
    "prob = ????\n",
    "print(\"probability of rolling exactly one three is {:0.3}\".format(prob))"
   ]
  },
  {
   "cell_type": "markdown",
   "metadata": {
    "slideshow": {
     "slide_type": "fragment"
    }
   },
   "source": [
    "If I have $n$ dice what is the probability that I will roll $k$ threes?"
   ]
  },
  {
   "cell_type": "markdown",
   "metadata": {
    "slideshow": {
     "slide_type": "slide"
    }
   },
   "source": [
    "## Binomial Distribution"
   ]
  },
  {
   "cell_type": "markdown",
   "metadata": {
    "slideshow": {
     "slide_type": "-"
    }
   },
   "source": [
    "The probability of $k$ successes in $n$ trials is\n",
    "\n",
    "$$b_{n, p}(k) = \\left({ n! \\over k!(n-k)!}\\right)p^{k}(1-p)^{n-k}$$\n",
    "\n",
    "where:\n",
    " * $p$ is the probability of success in 1 trial\n",
    " * $n$ and $k$ are integers\n",
    " * $n \\geq k \\geq 0$"
   ]
  },
  {
   "cell_type": "markdown",
   "metadata": {
    "slideshow": {
     "slide_type": "subslide"
    }
   },
   "source": [
    "### Odds of rolling 0, 1, 2, or 3 sixes on 3 dice"
   ]
  },
  {
   "cell_type": "code",
   "execution_count": null,
   "metadata": {
    "slideshow": {
     "slide_type": "-"
    }
   },
   "outputs": [],
   "source": [
    "# number of trials (dice)\n",
    "n = ???\n",
    "# probability of success for one trial (on each die)\n",
    "p = ???\n",
    "# binomial probability\n",
    "from scipy.stats import binom\n",
    "k = ???\n",
    "b_np = ???"
   ]
  },
  {
   "cell_type": "code",
   "execution_count": null,
   "metadata": {
    "slideshow": {
     "slide_type": "subslide"
    }
   },
   "outputs": [],
   "source": [
    "# plot the distribution\n",
    "plt.bar(k, b_np, width=0.5)\n",
    "plt.title(\"n={}; p={:.4f}\".format(n, p))\n",
    "plt.xlabel('Number of Sixes'.format(n))\n",
    "plt.ylabel('Fraction of Times Rolled')\n",
    "for x, y in zip(k, b_np):\n",
    "    plt.annotate(\"{:.1f}%\".format(100 * y), xy=(x, y), va='bottom', ha='center')"
   ]
  },
  {
   "cell_type": "markdown",
   "metadata": {
    "slideshow": {
     "slide_type": "slide"
    }
   },
   "source": [
    "## Expectation Value"
   ]
  },
  {
   "cell_type": "markdown",
   "metadata": {
    "slideshow": {
     "slide_type": "-"
    }
   },
   "source": [
    "#### If you run an experiment a large number of times, the average result is the expectation value.\n",
    "\n",
    "The expectation value, $E[f(x)]$, is a weighted average of all possible outcomes.\n",
    "\n",
    "$$E[f(x)] = \\sum f(x) P(x)$$\n",
    "\n",
    "where:\n",
    " * $f(x)$ gives the value of the function at $x$\n",
    " * $P(x)$ gives the probability for each value of $x$"
   ]
  },
  {
   "cell_type": "markdown",
   "metadata": {
    "slideshow": {
     "slide_type": "subslide"
    }
   },
   "source": [
    "For the binomial distribution in $k$:\n",
    " * $f(x) = k$\n",
    " * $P(x) = \\left({ n! \\over k!(n-k)!}\\right)p^{k}(1-p)^{n-k}$"
   ]
  },
  {
   "cell_type": "markdown",
   "metadata": {
    "slideshow": {
     "slide_type": "subslide"
    }
   },
   "source": [
    "**Example**: If you have a one in six chance of rolling a six ($p=1/6$) and you roll three dice ($n=3$), how many sixes do you expect to get?"
   ]
  },
  {
   "cell_type": "code",
   "execution_count": null,
   "metadata": {
    "slideshow": {
     "slide_type": "-"
    }
   },
   "outputs": [],
   "source": [
    "# expectation value\n",
    "print(\"Expected number of sixes = {}\".format(????))"
   ]
  },
  {
   "cell_type": "code",
   "execution_count": null,
   "metadata": {
    "slideshow": {
     "slide_type": "fragment"
    }
   },
   "outputs": [],
   "source": [
    "# actual average from 10,000 tests\n",
    "bdist = ????\n",
    "print(\"Average number of sixes rolled: {:.3f}\".format(bdist.mean()))"
   ]
  },
  {
   "cell_type": "markdown",
   "metadata": {
    "collapsed": true,
    "slideshow": {
     "slide_type": "slide"
    }
   },
   "source": [
    "## Binomial Distributing for large $n$ (and small $p$)"
   ]
  },
  {
   "cell_type": "markdown",
   "metadata": {
    "slideshow": {
     "slide_type": "-"
    }
   },
   "source": [
    "### Consider a warm cloud of gas"
   ]
  },
  {
   "cell_type": "code",
   "execution_count": null,
   "metadata": {},
   "outputs": [],
   "source": [
    "# number of excited atoms in a gas cloud\n",
    "n = 1e6\n",
    "# probability that any given atom will decay during some time interval\n",
    "p = 2.5e-6 \n",
    "k = np.arange(n + 1)\n",
    "b_np = ????"
   ]
  },
  {
   "cell_type": "code",
   "execution_count": null,
   "metadata": {
    "scrolled": false,
    "slideshow": {
     "slide_type": "subslide"
    }
   },
   "outputs": [],
   "source": [
    "# plot the distribution\n",
    "w = b_np > 1e-4\n",
    "plt.bar(k[w], b_np[w], width=0.5)\n",
    "plt.title(\"n={:.2e}; p={:.2e}\".format(n, p))\n",
    "plt.xlabel('Total Number of Photons Detected in Time Interval'.format(n))\n",
    "plt.ylabel('Probability')\n",
    "for x, y in zip(k[w], b_np[w]):\n",
    "    plt.annotate(\"{:.1f}%\".format(100 * y), xy=(x, y), va='bottom', ha='center')"
   ]
  },
  {
   "cell_type": "markdown",
   "metadata": {
    "slideshow": {
     "slide_type": "subslide"
    }
   },
   "source": [
    "### Expected number of photons"
   ]
  },
  {
   "cell_type": "markdown",
   "metadata": {},
   "source": [
    "Recall, the number of excited atoms in a gas cloud is $n = 10^6$ and the probability that any given atom will decay during some time interval is $p = 2.5 \\times 10^{-6}$.\n",
    "\n",
    "So what is the expected number of photons in the given time interval?"
   ]
  },
  {
   "cell_type": "code",
   "execution_count": null,
   "metadata": {
    "slideshow": {
     "slide_type": "-"
    }
   },
   "outputs": [],
   "source": [
    "print(\"Expected number of Photons = {}\".format(????))\n",
    "bdist = ????\n",
    "print(\"Average number of Detected in 10,000 trials: {:.3f}\".format(bdist.mean()))"
   ]
  },
  {
   "cell_type": "markdown",
   "metadata": {
    "slideshow": {
     "slide_type": "slide"
    }
   },
   "source": [
    "## Poisson Distribution"
   ]
  },
  {
   "cell_type": "markdown",
   "metadata": {
    "slideshow": {
     "slide_type": "-"
    }
   },
   "source": [
    "* Binomial distribution with\n",
    "  * $n \\rightarrow \\infty$"
   ]
  },
  {
   "cell_type": "markdown",
   "metadata": {
    "slideshow": {
     "slide_type": "fragment"
    }
   },
   "source": [
    "$$P_{\\mu}(k) = {e^{-\\mu} \\mu^k \\over k! } $$\n",
    "\n",
    "where\n",
    " * $\\mu = np$ (a positive, real number) is the expected mean number of counts in the given time interval\n",
    " * $k$ is an integer"
   ]
  },
  {
   "cell_type": "code",
   "execution_count": null,
   "metadata": {
    "scrolled": false,
    "slideshow": {
     "slide_type": "subslide"
    }
   },
   "outputs": [],
   "source": [
    "# re-plot the distribution\n",
    "plt.bar(k[w], b_np[w], width=0.5)\n",
    "plt.ylabel('Probability')\n",
    "plt.xlabel('Total Number of Photons Detected in Time Interval')\n",
    "plt.title(\"n={:.2e}; p={:.2e}\".format(n, p))\n",
    "\n",
    "# show a Poisson distribution\n",
    "from scipy.stats import poisson\n",
    "p_np = ????\n",
    "plt.plot(p_np, 'r--', linewidth=5, label='Poisson Distribution')\n",
    "plt.legend();"
   ]
  },
  {
   "cell_type": "markdown",
   "metadata": {
    "slideshow": {
     "slide_type": "slide"
    }
   },
   "source": [
    "## Poisson Distribution for Large $\\mu$"
   ]
  },
  {
   "cell_type": "code",
   "execution_count": null,
   "metadata": {
    "slideshow": {
     "slide_type": "-"
    }
   },
   "outputs": [],
   "source": [
    "# increase the expectation value by a factor of 100\n",
    "mu = 100 * n * p\n",
    "p_mu = ????\n",
    "plt.plot(p_mu, 'r--', linewidth=5, label='Poisson Distribution')\n",
    "plt.title(\"$\\mu$ = {:.2f}\".format(mu))\n",
    "plt.ylabel('Probability')\n",
    "plt.xlabel('Total Number of Photons Detected in Time Interval')\n",
    "plt.legend();"
   ]
  },
  {
   "cell_type": "code",
   "execution_count": null,
   "metadata": {
    "slideshow": {
     "slide_type": "subslide"
    }
   },
   "outputs": [],
   "source": [
    "plt.plot(p_mu, 'r--', linewidth=5, label='Poisson Distribution')\n",
    "plt.title(\"$\\mu$ = {:.2f}\".format(mu))\n",
    "plt.ylabel('Probability')\n",
    "plt.xlabel('Total Number of Photons Detected in Time Interval')\n",
    "\n",
    "from scipy.stats import norm\n",
    "x = np.linspace(1, 500, 1000)\n",
    "y = ????\n",
    "plt.plot(x, y, 'g', linewidth=3, label='Gaussian Distribution')\n",
    "plt.legend();"
   ]
  },
  {
   "cell_type": "markdown",
   "metadata": {
    "slideshow": {
     "slide_type": "slide"
    }
   },
   "source": [
    "## Gaussian Distribution"
   ]
  },
  {
   "cell_type": "markdown",
   "metadata": {
    "slideshow": {
     "slide_type": "-"
    }
   },
   "source": [
    "$$ G_{\\mu \\sigma}(x) = { 1 \\over \\sigma \\sqrt{2\\pi}} e^{-{(x - \\mu)^2 \\over 2\\sigma^2}}$$\n",
    "\n",
    "where:\n",
    "  * $x$ is a real number (positive or negative)\n",
    "  * $\\mu$ is the expectation value (center of the distribution)\n",
    "  * $\\sigma$ is the standard deviation of the distribution"
   ]
  }
 ],
 "metadata": {
  "kernelspec": {
   "display_name": "Python 3",
   "language": "python",
   "name": "python3"
  },
  "language_info": {
   "codemirror_mode": {
    "name": "ipython",
    "version": 3
   },
   "file_extension": ".py",
   "mimetype": "text/x-python",
   "name": "python",
   "nbconvert_exporter": "python",
   "pygments_lexer": "ipython3",
   "version": "3.6.10"
  },
  "livereveal": {
   "scroll": "True",
   "start_slideshow_at": "selected"
  }
 },
 "nbformat": 4,
 "nbformat_minor": 1
}
