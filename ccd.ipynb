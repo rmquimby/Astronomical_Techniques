{
 "cells": [
  {
   "cell_type": "markdown",
   "metadata": {
    "slideshow": {
     "slide_type": "subslide"
    }
   },
   "source": [
    "# CCDs\n",
    "## Charged-Coupled Devices\n",
    "\n",
    "<img src=\"https://upload.wikimedia.org/wikipedia/commons/thumb/6/66/Delta-Doped_Charged_Coupled_Devices_%28CCD%29_for_Ultra-Violet_and_Visible_Detection.jpg/263px-Delta-Doped_Charged_Coupled_Devices_%28CCD%29_for_Ultra-Violet_and_Visible_Detection.jpg\">\n",
    "\n",
    "### Prof. Robert Quimby\n",
    "&copy; 2020 Robert Quimby"
   ]
  },
  {
   "cell_type": "markdown",
   "metadata": {
    "slideshow": {
     "slide_type": "slide"
    }
   },
   "source": [
    "## In this tutorial you will..."
   ]
  },
  {
   "cell_type": "markdown",
   "metadata": {},
   "source": [
    "- Consider the meaning of \"Charge-Coupled\"\n",
    "- Briefly review the electrical properties of solids including ways to excite electrons\n",
    "- Study the structure of a CCD and learn how it is used to measure light"
   ]
  },
  {
   "cell_type": "markdown",
   "metadata": {
    "slideshow": {
     "slide_type": "slide"
    }
   },
   "source": [
    "## Recommended reading\n",
    "- \"Handbook of CCD Astronomy\" by Steve B. Howell (Cambridge University Press; second edition; 2006)\n",
    "- [\"CCD Imager Development for Astronomy\"](https://pdfs.semanticscholar.org/d0e9/fcb42d097c2baa9b5fc32a3a5e0acc75c764.pdf) by Burke et al. 2007 (Lincoln Laboratory Journal, vol. 16, num. 2)"
   ]
  },
  {
   "cell_type": "markdown",
   "metadata": {
    "slideshow": {
     "slide_type": "slide"
    }
   },
   "source": [
    "## Charge-Coupled Device: what does that mean?"
   ]
  },
  {
   "cell_type": "markdown",
   "metadata": {},
   "source": [
    "![](media/moving_charge.png)"
   ]
  },
  {
   "cell_type": "markdown",
   "metadata": {
    "slideshow": {
     "slide_type": "slide"
    }
   },
   "source": [
    "## Band Theory for Solids"
   ]
  },
  {
   "cell_type": "markdown",
   "metadata": {},
   "source": [
    "see http://hyperphysics.phy-astr.gsu.edu/hbase/Solids/band.html"
   ]
  },
  {
   "cell_type": "markdown",
   "metadata": {},
   "source": [
    "![](http://hyperphysics.phy-astr.gsu.edu/hbase/Solids/imgsol/band3.gif)"
   ]
  },
  {
   "cell_type": "markdown",
   "metadata": {
    "slideshow": {
     "slide_type": "slide"
    }
   },
   "source": [
    "## The Silicon Band Gap"
   ]
  },
  {
   "cell_type": "markdown",
   "metadata": {},
   "source": [
    "![](http://hyperphysics.phy-astr.gsu.edu/hbase/Solids/imgsol/siban.gif)"
   ]
  },
  {
   "cell_type": "markdown",
   "metadata": {
    "slideshow": {
     "slide_type": "slide"
    }
   },
   "source": [
    "## Electrons May be Thermally Excited into the Conduction Band"
   ]
  },
  {
   "cell_type": "markdown",
   "metadata": {},
   "source": [
    "Fermi Function (probability that an energy level, $E$, will be occupied given a temperature, $T$):\n",
    "\n",
    "$$f\\left(E \\,\\middle| \\, T\\right) = { 1 \\over e^{(E-E_F)/kT} + 1 }$$\n",
    "\n",
    "where:\n",
    "* $E_F$ is the Fermi energy level\n",
    "* $k$ is the Boltzmann constant"
   ]
  },
  {
   "cell_type": "markdown",
   "metadata": {
    "slideshow": {
     "slide_type": "subslide"
    }
   },
   "source": [
    "![](http://hyperphysics.phy-astr.gsu.edu/hbase/Solids/imgsol/ffun.gif)"
   ]
  },
  {
   "cell_type": "markdown",
   "metadata": {
    "slideshow": {
     "slide_type": "slide"
    }
   },
   "source": [
    "## Electrons May be Photoelectrically Excited into the Conduction Band"
   ]
  },
  {
   "cell_type": "markdown",
   "metadata": {
    "slideshow": {
     "slide_type": "-"
    }
   },
   "source": [
    "![](https://upload.wikimedia.org/wikipedia/commons/7/77/Photoelectric_effect.png)"
   ]
  },
  {
   "cell_type": "markdown",
   "metadata": {
    "slideshow": {
     "slide_type": "slide"
    }
   },
   "source": [
    "## Photon Energies"
   ]
  },
  {
   "cell_type": "markdown",
   "metadata": {
    "slideshow": {
     "slide_type": "-"
    }
   },
   "source": [
    "$$E = h\\nu = hc/\\lambda$$\n",
    "\n",
    "Thus for a photon to raise an electron to the silicon Conduction Band, $hc/\\lambda > E_{\\rm gap}$ or\n",
    "\n",
    "$$\\lambda < { (4.135 \\times 10^{−15} {\\rm eV\\,s})(3 \\times 10^{18}{\\rm \\unicode{x212B}\\,s}^{-1}) \\over 1.09 {\\rm eV}}$$"
   ]
  },
  {
   "cell_type": "code",
   "execution_count": 2,
   "metadata": {
    "slideshow": {
     "slide_type": "fragment"
    }
   },
   "outputs": [
    {
     "name": "stdout",
     "output_type": "stream",
     "text": [
      "11380.733944954129\n"
     ]
    }
   ],
   "source": [
    "# what is the longest wavelength photon that can excite silicon?\n",
    "lambda_max = 4.135e-15 * 3e18 / 1.09\n",
    "print(lambda_max)"
   ]
  },
  {
   "cell_type": "markdown",
   "metadata": {
    "slideshow": {
     "slide_type": "slide"
    }
   },
   "source": [
    "## Isolating Charge on a CCD"
   ]
  },
  {
   "cell_type": "markdown",
   "metadata": {
    "slideshow": {
     "slide_type": "-"
    }
   },
   "source": [
    "<img src=\"media/one_pixel.png\" \n",
    "alt=\"CCD pixel diagram from Burke et al. (figure B; VOLUME 16, NUMBER 2, 2007 LINCOLN LABORATORY JOURNAL)\" \n",
    "style=\"height: 400px;\"/>"
   ]
  },
  {
   "cell_type": "markdown",
   "metadata": {
    "slideshow": {
     "slide_type": "subslide"
    }
   },
   "source": [
    "### Front vs. Back Illumination"
   ]
  },
  {
   "cell_type": "markdown",
   "metadata": {
    "slideshow": {
     "slide_type": "-"
    }
   },
   "source": [
    "<img src=\"media/front_back.png\" \n",
    "alt=\"CCD pixel diagram from Burke et al. (figure 2; VOLUME 16, NUMBER 2, 2007 LINCOLN LABORATORY JOURNAL))\" \n",
    "style=\"height: 400px;\"/>"
   ]
  },
  {
   "cell_type": "markdown",
   "metadata": {
    "slideshow": {
     "slide_type": "fragment"
    }
   },
   "source": [
    "* at each interface, photons may be absorbed, reflected, or transmitted"
   ]
  },
  {
   "cell_type": "markdown",
   "metadata": {
    "slideshow": {
     "slide_type": "slide"
    }
   },
   "source": [
    "## Moving Charge on a CCD"
   ]
  },
  {
   "cell_type": "markdown",
   "metadata": {
    "slideshow": {
     "slide_type": "subslide"
    }
   },
   "source": [
    "[CCD Demonstrator](https://rquimby.sdsu.edu/ccd.html)"
   ]
  },
  {
   "cell_type": "markdown",
   "metadata": {
    "collapsed": true,
    "slideshow": {
     "slide_type": "slide"
    }
   },
   "source": [
    "## Here's what a real CCD looks like"
   ]
  },
  {
   "cell_type": "markdown",
   "metadata": {},
   "source": [
    "<img src=\"media/ccd_amplifier.png\"\n",
    "alt=\"Figure 2.3 from Howell (2006)\"\n",
    "height=\"600\">"
   ]
  },
  {
   "cell_type": "markdown",
   "metadata": {
    "slideshow": {
     "slide_type": "slide"
    }
   },
   "source": [
    "## Key Readout Components"
   ]
  },
  {
   "cell_type": "markdown",
   "metadata": {
    "slideshow": {
     "slide_type": "-"
    }
   },
   "source": [
    "**Amplifier**\n",
    " * converts the voltage from each packet of electrons into a larger voltage\n",
    " * i.e. convert a few electron-Volts into a few mili-Volts.\n",
    " \n",
    "**ADC (Analog-to-Digital Converter)**\n",
    " * digitizes the voltage measurement\n",
    " * output is measured in ADUs (Analog-Digital Units)"
   ]
  },
  {
   "cell_type": "markdown",
   "metadata": {
    "slideshow": {
     "slide_type": "slide"
    }
   },
   "source": [
    "## Converting Voltages into \"Counts\" (a.k.a. ADU)"
   ]
  },
  {
   "cell_type": "markdown",
   "metadata": {},
   "source": [
    "* CCDs have a fixed well depth \n",
    "  * pixels can only hold so many electrons before they begin to spill into other rows\n",
    "    * (this is known as \"bleed trails\" or \"blooming\")\n",
    "  * well depth is about 150,000$\\,e^-$ for the ULTRA CCD on the MLO 1.0m\n",
    "* ADCs have a fixed number of bits (limited dynamic range)\n",
    "  * typical ADCs on research grade CCDs are 16 bit\n",
    "    * ADU values range from 0 to $2^{16}-1 = 65535$\n",
    "* to match the pixel well depth to the ADC range, a multiplicative constant, $g$ is needed.\n",
    "  * $g = e^- / {\\rm ADU}$ is called the \"gain\", although \"inverse gain\" would have made more sense"
   ]
  }
 ],
 "metadata": {
  "kernelspec": {
   "display_name": "Python 3",
   "language": "python",
   "name": "python3"
  },
  "language_info": {
   "codemirror_mode": {
    "name": "ipython",
    "version": 3
   },
   "file_extension": ".py",
   "mimetype": "text/x-python",
   "name": "python",
   "nbconvert_exporter": "python",
   "pygments_lexer": "ipython3",
   "version": "3.6.10"
  },
  "livereveal": {
   "scroll": "True",
   "start_slideshow_at": "selected"
  }
 },
 "nbformat": 4,
 "nbformat_minor": 1
}
