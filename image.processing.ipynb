{
 "cells": [
  {
   "cell_type": "markdown",
   "metadata": {
    "slideshow": {
     "slide_type": "subslide"
    }
   },
   "source": [
    "# Image Processing\n",
    "## Finding the \"counts\" proportional to incident photons\n",
    "\n",
    "<img src=\"media/improc.png\" width=\"700px\">\n",
    "\n",
    "### Prof. Robert Quimby\n",
    "&copy; 2020 Robert Quimby"
   ]
  },
  {
   "cell_type": "markdown",
   "metadata": {
    "slideshow": {
     "slide_type": "slide"
    }
   },
   "source": [
    "## In this tutorial you will..."
   ]
  },
  {
   "cell_type": "markdown",
   "metadata": {},
   "source": [
    "- Learn about the two forms of bias in imaging data and how to remove them\n",
    "- Find out that some CCD pixels are more sensitive than others and how you can correct for this\n",
    "- Hear how to use overscan, bias, and flat-field data to fully process CCD images"
   ]
  },
  {
   "cell_type": "markdown",
   "metadata": {
    "collapsed": true,
    "slideshow": {
     "slide_type": "slide"
    }
   },
   "source": [
    "## Recall how CCDs work"
   ]
  },
  {
   "cell_type": "markdown",
   "metadata": {},
   "source": [
    "<img src=\"media/ccd_amplifier.png\"\n",
    "alt=\"Figure 2.3 from Howell (2006)\"\n",
    "width=\"600px\">"
   ]
  },
  {
   "cell_type": "markdown",
   "metadata": {
    "slideshow": {
     "slide_type": "slide"
    }
   },
   "source": [
    "## Relation Between Incident Photons and ADU"
   ]
  },
  {
   "cell_type": "markdown",
   "metadata": {},
   "source": [
    "For each pixel (ignoring noise for the moment), \n",
    "$$C = { (B_f + B_s + \\epsilon N_{\\gamma}) \\over g}$$\n",
    "where:\n",
    "* $C =$ the \"counts\" in ADU recorded for a given pixel\n",
    "* $B_f =$ time dependant (floating) bias (measured in $e^-$)\n",
    "* $B_s =$ time independant (static) bias floating bias (measured in $e^-$)\n",
    "* $\\epsilon =  $ photon conversion efficiency ($e^- /$ photon incident on aperature)\n",
    "* $N_{\\gamma} =$ number of incident photons\n",
    "* $g =  $ \"gain\" (in $e^- / {\\rm ADU}$)"
   ]
  },
  {
   "cell_type": "markdown",
   "metadata": {
    "slideshow": {
     "slide_type": "slide"
    }
   },
   "source": [
    "## Lets look at a raw image"
   ]
  },
  {
   "cell_type": "code",
   "execution_count": null,
   "metadata": {},
   "outputs": [],
   "source": [
    "# set up for plotting\n",
    "%matplotlib notebook\n",
    "import matplotlib.pyplot as plt\n",
    "\n",
    "# load the image data\n",
    "from astropy.io import fits\n",
    "image = fits.getdata('media/raw.fits')"
   ]
  },
  {
   "cell_type": "code",
   "execution_count": null,
   "metadata": {
    "slideshow": {
     "slide_type": "subslide"
    }
   },
   "outputs": [],
   "source": [
    "# display the image\n",
    "fig, ax = plt.subplots(figsize=(7,7))\n",
    "ax.imshow(image, origin='lower', cmap='gray', vmin=1700, vmax=2300);"
   ]
  },
  {
   "cell_type": "markdown",
   "metadata": {
    "slideshow": {
     "slide_type": "slide"
    }
   },
   "source": [
    "## Overscan"
   ]
  },
  {
   "cell_type": "markdown",
   "metadata": {},
   "source": [
    "* After each CCD row is read out, the serial register is clocked several more times to generate virtual pixels\n",
    "* These are used to measure the time dependant bias level"
   ]
  },
  {
   "cell_type": "markdown",
   "metadata": {},
   "source": [
    "[CCD Readout Demonstrator](https://rquimby.sdsu.edu/ccd.html)"
   ]
  },
  {
   "cell_type": "markdown",
   "metadata": {
    "slideshow": {
     "slide_type": "slide"
    }
   },
   "source": [
    "## Bias Exposures"
   ]
  },
  {
   "cell_type": "markdown",
   "metadata": {},
   "source": [
    "* If we read out the CCD without exposing (e.g. a zero second exposure with the shutter closed), $N_{\\gamma}$ will be zero so the measured signal is just the sum of the bias terms (time dependant and time independant, to first order).\n",
    "$$C = { B_f + B_s + \\epsilon N_{\\gamma} \\over g} \\rightarrow { B_f \\over g} + {B_s \\over g}$$\n",
    "* we can subtract off the median overscan value to recover the time independant (to first order) bias."
   ]
  },
  {
   "cell_type": "code",
   "execution_count": null,
   "metadata": {
    "slideshow": {
     "slide_type": "subslide"
    }
   },
   "outputs": [],
   "source": [
    "# display a bias frame\n",
    "bias = fits.getdata('media/bias.fits')\n",
    "fig, ax = plt.subplots(figsize=(7,7))\n",
    "ax.imshow(bias, origin='lower', cmap='gray', vmin=530, vmax=550);"
   ]
  },
  {
   "cell_type": "markdown",
   "metadata": {
    "slideshow": {
     "slide_type": "subslide"
    }
   },
   "source": [
    "### Every measurement comes with noise--even bias\n",
    "- You will not get identical values on two consecutive bias frames\n",
    "- But you can take an average over many bias frames to find the mean bias values"
   ]
  },
  {
   "cell_type": "markdown",
   "metadata": {
    "slideshow": {
     "slide_type": "slide"
    }
   },
   "source": [
    "## How to Construct a Master Bais Frame"
   ]
  },
  {
   "cell_type": "markdown",
   "metadata": {},
   "source": [
    "Master bias frames are used to remove the static bias image"
   ]
  },
  {
   "cell_type": "markdown",
   "metadata": {},
   "source": [
    "* record ~25 bias frames\n",
    "* subtract off the median overscan value from each bias frame\n",
    "  * (taking the median is just the easiest way to do this...)\n",
    "* trim off the overscan columns\n",
    "* for each pixel on the CCD, determine the median, overscan subtracted value using all the bias frames\n",
    "  - (this is easy with numpy)"
   ]
  },
  {
   "cell_type": "markdown",
   "metadata": {
    "slideshow": {
     "slide_type": "slide"
    }
   },
   "source": [
    "## What we want is (a number porportional to) $N_{\\gamma}$"
   ]
  },
  {
   "cell_type": "markdown",
   "metadata": {},
   "source": [
    "$$ N_{\\gamma} = {gC - B_f - B_s \\over \\epsilon}$$\n",
    "\n",
    "Thus we need to determine each of the other parameters\n",
    "* $g$ is set in the lab and can be measured from the [photon transfer curve](https://ui.adsabs.harvard.edu/abs/2019A%26A...629A..36A/abstract)\n",
    "* $C$ is the raw pixel value (ADU)\n",
    "* $B_f$ can be measured from the overscan\n",
    "* $B_s$ can be measured from (overscan subtracted) zero second dark exposures\n",
    "* but $\\epsilon$ is difficult to measure directly"
   ]
  },
  {
   "cell_type": "markdown",
   "metadata": {
    "slideshow": {
     "slide_type": "subslide"
    }
   },
   "source": [
    "* however, all we need is the relative, pixel to pixel efficiency, $f$.\n",
    "\n",
    "$$f = {\\epsilon \\over \\bar{\\epsilon}}$$"
   ]
  },
  {
   "cell_type": "markdown",
   "metadata": {
    "slideshow": {
     "slide_type": "slide"
    }
   },
   "source": [
    "## Correcting for pixel-to-pixel variations"
   ]
  },
  {
   "cell_type": "markdown",
   "metadata": {},
   "source": [
    "Recall that the ADU value (or \"counts\") on a given image is given by:\n",
    "\n",
    "$$C_{i}^k = {B_{i}^k +  \\epsilon_{i}^k N_{i}^k \\over g_{i}^k}$$\n",
    "\n",
    "where $i$ is the pixel index on the CCD and $k$ is the exposure number. "
   ]
  },
  {
   "cell_type": "markdown",
   "metadata": {
    "slideshow": {
     "slide_type": "fragment"
    }
   },
   "source": [
    "The bias can be decomposed into two parts, one time-independant and one time-depenent. So, $B_{i}^k \\rightarrow B^k + B_{i}$\n",
    "\n",
    "For CCDs with one amplifier, the same gain is applied to each pixel and its value is roughly constant over time. Thus, $g_{i}^k \\rightarrow g$."
   ]
  },
  {
   "cell_type": "markdown",
   "metadata": {
    "slideshow": {
     "slide_type": "subslide"
    }
   },
   "source": [
    "### If each pixel receives the same number of photons, then:\n",
    "\n",
    "$$\\epsilon_{i}^k N_{i}^k \\rightarrow \\epsilon_{i} N^k$$\n",
    "\n",
    "where we have used the fact that pixel-to-pixel efficiencies, $\\epsilon_{i}$, are constant to first order in time."
   ]
  },
  {
   "cell_type": "markdown",
   "metadata": {},
   "source": [
    "Averaging over all pixels on a given exposure:\n",
    "\n",
    "$${1 \\over M} \\sum_{i} \\epsilon_{i} N^k = {N^k \\over M} \\sum_{i} \\epsilon_{i} = N^k \\bar{\\epsilon}$$\n",
    "\n",
    "where $M$ is the number of pixels on the image"
   ]
  },
  {
   "cell_type": "markdown",
   "metadata": {
    "slideshow": {
     "slide_type": "subslide"
    }
   },
   "source": [
    "We can then determine the pixel-to-pixel efficiencies relative to this average:\n",
    "$${g C_{i}^k} - B^k - B_{i} = \\epsilon_{i} N^k$$\n",
    "\n",
    "so\n",
    "\n",
    "$${ {g C_{i}^k} - B^k - B_{i} \\over \\bar{\\epsilon} N^k  } = {\\epsilon_{i} N^k \\over \\bar{\\epsilon} N^k} = f_{i}$$"
   ]
  },
  {
   "cell_type": "markdown",
   "metadata": {},
   "source": [
    "which means that $\\epsilon_i / f_i = {\\rm constant}$ for all pixels"
   ]
  },
  {
   "cell_type": "markdown",
   "metadata": {
    "slideshow": {
     "slide_type": "subslide"
    }
   },
   "source": [
    "### This lets us determine the **relative** number of incident photons in science frames"
   ]
  },
  {
   "cell_type": "markdown",
   "metadata": {},
   "source": [
    "Ratio of the photons striking the $i^{\\rm th}$ and $j^{\\rm th}$ pixels is:\n",
    "$${ N_{i}^k \\over N_{j}^k } = { g C_{i}^k - b^k - B_{i} \\over g C_{j}^k - b^k - B_{j} } {f_{j} \\over f_{i} }$$"
   ]
  },
  {
   "cell_type": "markdown",
   "metadata": {
    "slideshow": {
     "slide_type": "slide"
    }
   },
   "source": [
    "## Flat Field Exposures"
   ]
  },
  {
   "cell_type": "code",
   "execution_count": null,
   "metadata": {},
   "outputs": [],
   "source": [
    "# display a twilight flat\n",
    "flat = fits.getdata('media/flat.fits')\n",
    "fig, ax = plt.subplots(figsize=(7,7))\n",
    "ax.imshow(flat, origin='lower', cmap='gray', vmin=32000, vmax=38000);"
   ]
  },
  {
   "cell_type": "markdown",
   "metadata": {
    "slideshow": {
     "slide_type": "slide"
    }
   },
   "source": [
    "## Detrending data"
   ]
  },
  {
   "cell_type": "markdown",
   "metadata": {},
   "source": [
    "Remove bias and pixel-to-pixel variations to determine the relative numbers of photons incident on each pixel"
   ]
  },
  {
   "cell_type": "markdown",
   "metadata": {},
   "source": [
    "Process:\n",
    "* remove overscan\n",
    "* trim to active area\n",
    "* subtract master bias\n",
    "* divide by master flat"
   ]
  }
 ],
 "metadata": {
  "kernelspec": {
   "display_name": "Python 3",
   "language": "python",
   "name": "python3"
  },
  "language_info": {
   "codemirror_mode": {
    "name": "ipython",
    "version": 3
   },
   "file_extension": ".py",
   "mimetype": "text/x-python",
   "name": "python",
   "nbconvert_exporter": "python",
   "pygments_lexer": "ipython3",
   "version": "3.6.10"
  },
  "livereveal": {
   "scroll": "True",
   "start_slideshow_at": "selected"
  }
 },
 "nbformat": 4,
 "nbformat_minor": 1
}
